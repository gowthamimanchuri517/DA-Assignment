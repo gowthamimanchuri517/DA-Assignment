{
 "cells": [
  {
   "cell_type": "code",
   "execution_count": 1,
   "metadata": {},
   "outputs": [],
   "source": [
    "from pyspark.sql import SparkSession\n",
    "from pyspark.sql import *\n",
    "from pyspark.sql.functions import *\n",
    "from pyspark.sql import functions as f\n",
    "import pandas as pd\n",
    "import numpy as np\n",
    "from pyspark_dist_explore import hist\n",
    "import matplotlib.pyplot as plt\n",
    "%matplotlib inline"
   ]
  },
  {
   "cell_type": "code",
   "execution_count": 2,
   "metadata": {},
   "outputs": [],
   "source": [
    "spark =  SparkSession.builder.config('spark.driver.memory', '10g').appName('spark').getOrCreate()"
   ]
  },
  {
   "cell_type": "code",
   "execution_count": 3,
   "metadata": {},
   "outputs": [
    {
     "name": "stdout",
     "output_type": "stream",
     "text": [
      "+---+--------------------+--------------------+---------+--------------------+-------+-----------+-------------+-------------+------------+--------------+--------------+-------------------+-----------------+-----------------+-----------+---------+---------------+---------------+-----------+-------------------+----------+-------------+---------+---------+------+------+----------+-------+--------------+\n",
      "|_c0|         location_id|          client_mac|freq_band|         mac_address|country|vendor_name|rssi_percs_25|rssi_percs_75|         isp|total_bytes_tx|total_bytes_rx|                 ts|txWeightedPhyRate|rxWeightedPhyRate|     idtype|is_static|weighted_prr_tx|weighted_prr_rx|num_samples|is_connected_to_pod|pod_serial|control_group|bandCap2G|bandCap5G|maxMcs|maxNss|maxChWidth|phyMode|isBTMSupported|\n",
      "+---+--------------------+--------------------+---------+--------------------+-------+-----------+-------------+-------------+------------+--------------+--------------+-------------------+-----------------+-----------------+-----------+---------+---------------+---------------+-----------+-------------------+----------+-------------+---------+---------+------+------+----------+-------+--------------+\n",
      "|  0|5b625002a0505e06c...|28f3739f16bd7512a...|     2.4G|48ecaf7a65a2c7222...|     UK|       null|        -64.0|        -62.0|Virgin_Media|     3018592.0|      270744.0|2021-02-25 20:15:00|         88.45363|         85.17462|amazon-echo|     null|     0.20280853|            0.0|         15|              False|      null|         null|     True|     True|  15.0|   2.0|      20.0|    8.0|         False|\n",
      "|  1|5b625002a0505e06c...|28f3739f16bd7512a...|     2.4G|48ecaf7a65a2c7222...|     UK|       null|        -64.0|        -63.0|Virgin_Media|      432768.0|     4427705.0|2021-02-25 20:00:00|        125.81183|       116.114296|amazon-echo|     null|            0.0|      0.2375678|         15|              False|      null|         null|     True|     True|  15.0|   2.0|      20.0|    8.0|         False|\n",
      "|  2|5b625002a0505e06c...|28f3739f16bd7512a...|     2.4G|48ecaf7a65a2c7222...|     UK|       null|        -64.0|        -64.0|Virgin_Media|      139891.0|       53644.0|2021-02-25 20:45:00|       113.710815|        97.602585|amazon-echo|     null|            0.0|            0.0|         15|              False|      null|         null|     True|     True|  15.0|   2.0|      20.0|    8.0|         False|\n",
      "+---+--------------------+--------------------+---------+--------------------+-------+-----------+-------------+-------------+------------+--------------+--------------+-------------------+-----------------+-----------------+-----------+---------+---------------+---------------+-----------+-------------------+----------+-------------+---------+---------+------+------+----------+-------+--------------+\n",
      "only showing top 3 rows\n",
      "\n"
     ]
    }
   ],
   "source": [
    "df_client_stats = spark.read.option(\"header\",\"true\").csv(\"client_stats_sample_0225part1.csv\")\n",
    "df_client_stats.show(3)"
   ]
  },
  {
   "cell_type": "code",
   "execution_count": 4,
   "metadata": {},
   "outputs": [
    {
     "data": {
      "text/plain": [
       "['_c0',\n",
       " 'location_id',\n",
       " 'client_mac',\n",
       " 'freq_band',\n",
       " 'mac_address',\n",
       " 'country',\n",
       " 'vendor_name',\n",
       " 'rssi_percs_25',\n",
       " 'rssi_percs_75',\n",
       " 'isp',\n",
       " 'total_bytes_tx',\n",
       " 'total_bytes_rx',\n",
       " 'ts',\n",
       " 'txWeightedPhyRate',\n",
       " 'rxWeightedPhyRate',\n",
       " 'idtype',\n",
       " 'is_static',\n",
       " 'weighted_prr_tx',\n",
       " 'weighted_prr_rx',\n",
       " 'num_samples',\n",
       " 'is_connected_to_pod',\n",
       " 'pod_serial',\n",
       " 'control_group',\n",
       " 'bandCap2G',\n",
       " 'bandCap5G',\n",
       " 'maxMcs',\n",
       " 'maxNss',\n",
       " 'maxChWidth',\n",
       " 'phyMode',\n",
       " 'isBTMSupported']"
      ]
     },
     "execution_count": 4,
     "metadata": {},
     "output_type": "execute_result"
    }
   ],
   "source": [
    "df_client_stats.columns"
   ]
  },
  {
   "cell_type": "code",
   "execution_count": 5,
   "metadata": {},
   "outputs": [],
   "source": [
    "df_client_stats_selected = df_client_stats.select('rssi_percs_25','txWeightedPhyRate','rxWeightedPhyRate')"
   ]
  },
  {
   "cell_type": "code",
   "execution_count": 6,
   "metadata": {},
   "outputs": [
    {
     "name": "stdout",
     "output_type": "stream",
     "text": [
      "+-------------+-----------------+-----------------+\n",
      "|rssi_percs_25|txWeightedPhyRate|rxWeightedPhyRate|\n",
      "+-------------+-----------------+-----------------+\n",
      "|        -64.0|         88.45363|         85.17462|\n",
      "|        -64.0|        125.81183|       116.114296|\n",
      "|        -64.0|       113.710815|        97.602585|\n",
      "+-------------+-----------------+-----------------+\n",
      "only showing top 3 rows\n",
      "\n"
     ]
    }
   ],
   "source": [
    "df_client_stats_selected.show(3)"
   ]
  },
  {
   "cell_type": "markdown",
   "metadata": {},
   "source": [
    "# Look at the RSSI levels (rssi_percs_25) and look at the spread of Tx and Rx weighted Phy Rate"
   ]
  },
  {
   "cell_type": "code",
   "execution_count": 7,
   "metadata": {},
   "outputs": [
    {
     "name": "stdout",
     "output_type": "stream",
     "text": [
      "+-------+------------------+------------------+-----------------+\n",
      "|summary|     rssi_percs_25| txWeightedPhyRate|rxWeightedPhyRate|\n",
      "+-------+------------------+------------------+-----------------+\n",
      "|  count|            349633|            337658|           345314|\n",
      "|   mean|-58.36171070808533|285.42546087736895|263.9162788417009|\n",
      "| stddev|12.798838794940592| 268.8145817774094|269.5110488284659|\n",
      "|    min|             -10.0|               0.0|              0.0|\n",
      "|    25%|             -67.0|          72.22221|        62.591774|\n",
      "|    50%|             -59.0|         144.44444|        142.53798|\n",
      "|    75%|             -51.0|         432.14774|         411.1029|\n",
      "|    max|              32.0|          999.9521|        999.54034|\n",
      "+-------+------------------+------------------+-----------------+\n",
      "\n"
     ]
    }
   ],
   "source": [
    "df_client_stats_selected.summary().show()"
   ]
  },
  {
   "cell_type": "code",
   "execution_count": 8,
   "metadata": {},
   "outputs": [
    {
     "name": "stdout",
     "output_type": "stream",
     "text": [
      "root\n",
      " |-- rssi_percs_25: string (nullable = true)\n",
      " |-- txWeightedPhyRate: string (nullable = true)\n",
      " |-- rxWeightedPhyRate: string (nullable = true)\n",
      "\n"
     ]
    }
   ],
   "source": [
    "df_client_stats_selected.printSchema()"
   ]
  },
  {
   "cell_type": "code",
   "execution_count": 9,
   "metadata": {},
   "outputs": [],
   "source": [
    "### convert the datatype of fields 'rssi_percs_25','txWeightedPhyRate','rxWeightedPhyRate' to int/float #####\n",
    "\n",
    "df_client_stats_selected_datatype = df_client_stats_selected\\\n",
    "                                    .withColumn(\"rssi_percs_25\",df_client_stats_selected[\"rssi_percs_25\"].cast('int'))\\\n",
    "                                    .withColumn(\"txWeightedPhyRate\",df_client_stats_selected[\"txWeightedPhyRate\"].cast('float'))\\\n",
    "                                    .withColumn(\"rxWeightedPhyRate\",df_client_stats_selected[\"rxWeightedPhyRate\"].cast('float'))"
   ]
  },
  {
   "cell_type": "code",
   "execution_count": 10,
   "metadata": {},
   "outputs": [
    {
     "name": "stdout",
     "output_type": "stream",
     "text": [
      "root\n",
      " |-- rssi_percs_25: integer (nullable = true)\n",
      " |-- txWeightedPhyRate: float (nullable = true)\n",
      " |-- rxWeightedPhyRate: float (nullable = true)\n",
      "\n"
     ]
    }
   ],
   "source": [
    "df_client_stats_selected_datatype.printSchema()"
   ]
  },
  {
   "cell_type": "code",
   "execution_count": 11,
   "metadata": {},
   "outputs": [
    {
     "data": {
      "text/plain": [
       "(array([8.3200e+02, 3.6630e+03, 2.1868e+04, 3.9891e+04, 6.1639e+04,\n",
       "        7.7794e+04, 6.0650e+04, 3.7660e+04, 2.2495e+04, 1.1107e+04,\n",
       "        6.3080e+03, 4.3510e+03, 1.1100e+03, 2.2900e+02, 3.2000e+01,\n",
       "        0.0000e+00, 0.0000e+00, 0.0000e+00, 0.0000e+00, 4.0000e+00]),\n",
       " array([-95.  , -88.65, -82.3 , -75.95, -69.6 , -63.25, -56.9 , -50.55,\n",
       "        -44.2 , -37.85, -31.5 , -25.15, -18.8 , -12.45,  -6.1 ,   0.25,\n",
       "          6.6 ,  12.95,  19.3 ,  25.65,  32.  ]),\n",
       " <a list of 20 Patch objects>)"
      ]
     },
     "execution_count": 11,
     "metadata": {},
     "output_type": "execute_result"
    },
    {
     "data": {
      "image/png": "[encoded data removed]",
      "text/plain": [
       "<Figure size 432x288 with 1 Axes>"
      ]
     },
     "metadata": {
      "needs_background": "light"
     },
     "output_type": "display_data"
    }
   ],
   "source": [
    "fig, ax = plt.subplots()\n",
    "hist(ax, df_client_stats_selected_datatype.select('rssi_percs_25'), bins = 20, color=['green'])"
   ]
  },
  {
   "cell_type": "code",
   "execution_count": 12,
   "metadata": {},
   "outputs": [
    {
     "data": {
      "text/plain": [
       "(array([45063., 89552., 54424., 12239., 21393., 15723., 26230.,  7594.,\n",
       "         8165., 10178., 10359.,  8666., 10332., 12502.,   857.,  1345.,\n",
       "          402.,   653.,   581.,  1400.]),\n",
       " array([   0.        ,   65.0000061 ,  130.00001221,  195.00001831,\n",
       "         260.00002441,  325.00003052,  390.00003662,  455.00004272,\n",
       "         520.00004883,  585.00005493,  650.00006104,  715.00006714,\n",
       "         780.00007324,  845.00007935,  910.00008545,  975.00009155,\n",
       "        1040.00009766, 1105.00010376, 1170.00010986, 1235.00011597,\n",
       "        1300.00012207]),\n",
       " <a list of 20 Patch objects>)"
      ]
     },
     "execution_count": 12,
     "metadata": {},
     "output_type": "execute_result"
    },
    {
     "data": {
      "image/png": "[encoded data removed]",
      "text/plain": [
       "<Figure size 432x288 with 1 Axes>"
      ]
     },
     "metadata": {
      "needs_background": "light"
     },
     "output_type": "display_data"
    }
   ],
   "source": [
    "fig, ax = plt.subplots()\n",
    "hist(ax, df_client_stats_selected_datatype.select('txWeightedPhyRate'), bins = 20, color=['green'])"
   ]
  },
  {
   "cell_type": "code",
   "execution_count": 13,
   "metadata": {},
   "outputs": [
    {
     "data": {
      "text/plain": [
       "(array([91478., 68351., 42801., 11028., 21815., 14657., 25507.,  5165.,\n",
       "         7605., 13732.,  6973.,  7205.,  9362., 16670.,  1029.,   339.,\n",
       "          173.,   186.,   162.,  1076.]),\n",
       " array([   0.        ,   65.00001221,  130.00002441,  195.00003662,\n",
       "         260.00004883,  325.00006104,  390.00007324,  455.00008545,\n",
       "         520.00009766,  585.00010986,  650.00012207,  715.00013428,\n",
       "         780.00014648,  845.00015869,  910.0001709 ,  975.00018311,\n",
       "        1040.00019531, 1105.00020752, 1170.00021973, 1235.00023193,\n",
       "        1300.00024414]),\n",
       " <a list of 20 Patch objects>)"
      ]
     },
     "execution_count": 13,
     "metadata": {},
     "output_type": "execute_result"
    },
    {
     "data": {
      "image/png": "[encoded data removed]",
      "text/plain": [
       "<Figure size 432x288 with 1 Axes>"
      ]
     },
     "metadata": {
      "needs_background": "light"
     },
     "output_type": "display_data"
    }
   ],
   "source": [
    "fig, ax = plt.subplots()\n",
    "hist(ax, df_client_stats_selected_datatype.select('rxWeightedPhyRate'), bins = 20, color=['green'])"
   ]
  },
  {
   "cell_type": "markdown",
   "metadata": {},
   "source": [
    "# Produce a histogram (graph and CSV) for the average Tx and Rx Weighed Phy Rate between -85 and -65 dB in 1 dB steps "
   ]
  },
  {
   "cell_type": "code",
   "execution_count": 14,
   "metadata": {},
   "outputs": [],
   "source": [
    "df_client_stats_selected_range_groupby = df_client_stats_selected_datatype\\\n",
    "                                .filter((f.col('rssi_percs_25') >= -85) & (f.col('rssi_percs_25') <= -65))\\\n",
    "                                .groupby('rssi_percs_25')\\\n",
    "                                .agg(avg('txWeightedPhyRate').alias('txWeightedPhyRate'),\n",
    "                                avg('rxWeightedPhyRate').alias('rxWeightedPhyRate'))\\\n",
    "                                .sort(desc(\"rssi_percs_25\"))"
   ]
  },
  {
   "cell_type": "code",
   "execution_count": 15,
   "metadata": {},
   "outputs": [
    {
     "name": "stdout",
     "output_type": "stream",
     "text": [
      "+-------------+------------------+------------------+\n",
      "|rssi_percs_25| txWeightedPhyRate| rxWeightedPhyRate|\n",
      "+-------------+------------------+------------------+\n",
      "|          -65|220.88181910113045|197.01566539280665|\n",
      "|          -66|201.99507614852783|175.66188738941918|\n",
      "|          -67|175.33338901621582|149.40316585973014|\n",
      "|          -68|160.33300206347946| 132.2090999226467|\n",
      "|          -69|153.10437781219093|120.87753334797871|\n",
      "+-------------+------------------+------------------+\n",
      "only showing top 5 rows\n",
      "\n"
     ]
    }
   ],
   "source": [
    "df_client_stats_selected_range_groupby.show(5)"
   ]
  },
  {
   "cell_type": "code",
   "execution_count": 16,
   "metadata": {},
   "outputs": [
    {
     "data": {
      "text/plain": [
       "21"
      ]
     },
     "execution_count": 16,
     "metadata": {},
     "output_type": "execute_result"
    }
   ],
   "source": [
    "df_client_stats_selected_range_groupby.count()"
   ]
  },
  {
   "cell_type": "code",
   "execution_count": 17,
   "metadata": {},
   "outputs": [],
   "source": [
    "df_client_stats_selected_range_groupby.coalesce(1).write.csv(\"avg_Tx_Rx_Phyrates_within_rssi_range.csv\")"
   ]
  },
  {
   "cell_type": "code",
   "execution_count": 18,
   "metadata": {},
   "outputs": [],
   "source": [
    "df_client_stats_selected_range_groupby_pd = df_client_stats_selected_range_groupby.toPandas()"
   ]
  },
  {
   "cell_type": "code",
   "execution_count": 19,
   "metadata": {},
   "outputs": [
    {
     "data": {
      "image/png": "[encoded data removed]",
      "text/plain": [
       "<Figure size 720x432 with 1 Axes>"
      ]
     },
     "metadata": {
      "needs_background": "light"
     },
     "output_type": "display_data"
    }
   ],
   "source": [
    "plt.figure(figsize=(10, 6))\n",
    "ax = plt.subplot(111)\n",
    "width = 0.4\n",
    "ax.bar(df_client_stats_selected_range_groupby_pd['rssi_percs_25']-width,df_client_stats_selected_range_groupby_pd['txWeightedPhyRate'],width,color='b',label='txWeightedPhyRate')\n",
    "ax.bar(df_client_stats_selected_range_groupby_pd['rssi_percs_25'],df_client_stats_selected_range_groupby_pd['rxWeightedPhyRate'],width,color='g',label='rxWeightedPhyRate')\n",
    "ax.legend()\n",
    "plt.xlabel('rssi_percs_25')\n",
    "plt.xticks(np.arange(-85,-64,1))\n",
    "plt.ylabel('tx & rx WeightedPhyRates')\n",
    "plt.show()"
   ]
  },
  {
   "cell_type": "code",
   "execution_count": 20,
   "metadata": {},
   "outputs": [
    {
     "data": {
      "text/plain": [
       "array([[<matplotlib.axes._subplots.AxesSubplot object at 0x7fb1108adeb8>]],\n",
       "      dtype=object)"
      ]
     },
     "execution_count": 20,
     "metadata": {},
     "output_type": "execute_result"
    },
    {
     "data": {
      "image/png": "[encoded data removed]",
      "text/plain": [
       "<Figure size 432x288 with 1 Axes>"
      ]
     },
     "metadata": {
      "needs_background": "light"
     },
     "output_type": "display_data"
    }
   ],
   "source": [
    "df_client_stats_selected_range_groupby_pd.hist('rssi_percs_25',bins=10)"
   ]
  },
  {
   "cell_type": "code",
   "execution_count": 21,
   "metadata": {},
   "outputs": [
    {
     "data": {
      "text/plain": [
       "array([[<matplotlib.axes._subplots.AxesSubplot object at 0x7fb110702e80>]],\n",
       "      dtype=object)"
      ]
     },
     "execution_count": 21,
     "metadata": {},
     "output_type": "execute_result"
    },
    {
     "data": {
      "image/png": "[encoded data removed]",
      "text/plain": [
       "<Figure size 432x288 with 1 Axes>"
      ]
     },
     "metadata": {
      "needs_background": "light"
     },
     "output_type": "display_data"
    }
   ],
   "source": [
    "df_client_stats_selected_range_groupby_pd.hist('txWeightedPhyRate',bins=10)"
   ]
  },
  {
   "cell_type": "code",
   "execution_count": 22,
   "metadata": {},
   "outputs": [
    {
     "data": {
      "text/plain": [
       "array([[<matplotlib.axes._subplots.AxesSubplot object at 0x7fb11071b780>]],\n",
       "      dtype=object)"
      ]
     },
     "execution_count": 22,
     "metadata": {},
     "output_type": "execute_result"
    },
    {
     "data": {
      "image/png": "[encoded data removed]",
      "text/plain": [
       "<Figure size 432x288 with 1 Axes>"
      ]
     },
     "metadata": {
      "needs_background": "light"
     },
     "output_type": "display_data"
    }
   ],
   "source": [
    "df_client_stats_selected_range_groupby_pd.hist('rxWeightedPhyRate',bins=10)"
   ]
  },
  {
   "cell_type": "markdown",
   "metadata": {},
   "source": [
    "# Using the client stats sample data provided to you calculate what % of devices are connected to 2.4 GHz and 5 GHz"
   ]
  },
  {
   "cell_type": "code",
   "execution_count": 25,
   "metadata": {},
   "outputs": [],
   "source": [
    "df_client_stats_2 = spark.read.option(\"header\",\"true\").csv(\"client_stats_sample_0225part2.csv\")"
   ]
  },
  {
   "cell_type": "code",
   "execution_count": 26,
   "metadata": {},
   "outputs": [],
   "source": [
    "df_client_stats_selected_band = df_client_stats_2.select('mac_address','rssi_percs_25','freq_band')"
   ]
  },
  {
   "cell_type": "code",
   "execution_count": 27,
   "metadata": {},
   "outputs": [
    {
     "name": "stdout",
     "output_type": "stream",
     "text": [
      "+--------------------+-------------+---------+\n",
      "|         mac_address|rssi_percs_25|freq_band|\n",
      "+--------------------+-------------+---------+\n",
      "|5b969ea8efcc5d3e1...|        -62.0|       5G|\n",
      "|9cd4189fefcd878d5...|        -37.0|       5G|\n",
      "+--------------------+-------------+---------+\n",
      "only showing top 2 rows\n",
      "\n"
     ]
    }
   ],
   "source": [
    "df_client_stats_selected_band.show(2)"
   ]
  },
  {
   "cell_type": "code",
   "execution_count": 28,
   "metadata": {},
   "outputs": [
    {
     "data": {
      "text/plain": [
       "350596"
      ]
     },
     "execution_count": 28,
     "metadata": {},
     "output_type": "execute_result"
    }
   ],
   "source": [
    "df_client_stats_selected_band.select('freq_band').count()"
   ]
  },
  {
   "cell_type": "code",
   "execution_count": 29,
   "metadata": {},
   "outputs": [],
   "source": [
    "df_plot = df_client_stats_selected_band.groupBy('freq_band').count().toPandas()"
   ]
  },
  {
   "cell_type": "code",
   "execution_count": 30,
   "metadata": {},
   "outputs": [
    {
     "data": {
      "text/html": [
       "<div>\n",
       "<style scoped>\n",
       "    .dataframe tbody tr th:only-of-type {\n",
       "        vertical-align: middle;\n",
       "    }\n",
       "\n",
       "    .dataframe tbody tr th {\n",
       "        vertical-align: top;\n",
       "    }\n",
       "\n",
       "    .dataframe thead th {\n",
       "        text-align: right;\n",
       "    }\n",
       "</style>\n",
       "<table border=\"1\" class=\"dataframe\">\n",
       "  <thead>\n",
       "    <tr style=\"text-align: right;\">\n",
       "      <th></th>\n",
       "      <th>freq_band</th>\n",
       "      <th>count</th>\n",
       "    </tr>\n",
       "  </thead>\n",
       "  <tbody>\n",
       "    <tr>\n",
       "      <th>0</th>\n",
       "      <td>2.4G</td>\n",
       "      <td>159914</td>\n",
       "    </tr>\n",
       "    <tr>\n",
       "      <th>1</th>\n",
       "      <td>5G</td>\n",
       "      <td>190682</td>\n",
       "    </tr>\n",
       "  </tbody>\n",
       "</table>\n",
       "</div>"
      ],
      "text/plain": [
       "  freq_band   count\n",
       "0      2.4G  159914\n",
       "1        5G  190682"
      ]
     },
     "execution_count": 30,
     "metadata": {},
     "output_type": "execute_result"
    }
   ],
   "source": [
    "df_plot"
   ]
  },
  {
   "cell_type": "code",
   "execution_count": 31,
   "metadata": {},
   "outputs": [
    {
     "data": {
      "image/png": "[encoded data removed]",
      "text/plain": [
       "<Figure size 720x504 with 1 Axes>"
      ]
     },
     "metadata": {
      "needs_background": "light"
     },
     "output_type": "display_data"
    }
   ],
   "source": [
    "ax = df_plot.plot(kind='bar',x='freq_band', y='count',figsize=(10, 7), rot=0)\n",
    "ax.legend().set_visible(False)\n",
    "total = 0\n",
    "for i in ax.patches:\n",
    "    total+=i.get_height()\n",
    "\n",
    "for i in ax.patches:\n",
    "    ax.text(i.get_x()-.03, i.get_height()+.5, \"          \"+str(np.around((i.get_height()/total)*100, 2))+'%', fontsize=15)"
   ]
  },
  {
   "cell_type": "markdown",
   "metadata": {},
   "source": [
    "# Now model the a future hypothetical scenario that could be caused after the new Band Steering feature is activated.  In this future scenario the following four conditions will be met:\n",
    "Every Device connected to 2.4 GHz with an RSSI >= -60 dB connects to 5 GHz\n",
    "Every Device connected to 5 GHz with an RSSI <= -75 dB connects to 2.4 GHz\n",
    "Every Device connected to 5 GHz with an RSSI > -75 dB stays on 5GHz\n",
    "Every Device connected to 2.4 GHz with an RSSI < -60 dB stays on 2.4GHz\n",
    "\n",
    "Calculate what % of devices that will be on 2.4GHz and 5GHz using above condition. Will we gain more devices on 5GHz?"
   ]
  },
  {
   "cell_type": "code",
   "execution_count": 32,
   "metadata": {},
   "outputs": [],
   "source": [
    "### making the records as 'others' which are failed to meet conditions ####\n",
    "df_client_stats_selected_future_band = df_client_stats_selected_band.withColumn('future_freq_band',f\\\n",
    "                                .when((((f.col('freq_band')=='5G') & (f.col('rssi_percs_25') > -75))|((f.col('freq_band')=='2.4G') & (f.col('rssi_percs_25') >= -60))),'5G')\\\n",
    "                                .when((((f.col('freq_band')=='2.4G') & (f.col('rssi_percs_25') < -60))|((f.col('freq_band')=='5G') & (f.col('rssi_percs_25') <= -75))),'2.4G')\\\n",
    "                                .otherwise('others'))"
   ]
  },
  {
   "cell_type": "code",
   "execution_count": 33,
   "metadata": {},
   "outputs": [],
   "source": [
    "# df_client_stats_selected_future_band_filter = df_client_stats_selected_future_band.filter(df_client_stats_selected_future_band.future_band.isNotNull())"
   ]
  },
  {
   "cell_type": "code",
   "execution_count": 34,
   "metadata": {},
   "outputs": [],
   "source": [
    "df_client_stats_selected_future_band_pd = df_client_stats_selected_future_band.groupBy('future_freq_band').count().toPandas()"
   ]
  },
  {
   "cell_type": "code",
   "execution_count": 35,
   "metadata": {},
   "outputs": [
    {
     "data": {
      "text/html": [
       "<div>\n",
       "<style scoped>\n",
       "    .dataframe tbody tr th:only-of-type {\n",
       "        vertical-align: middle;\n",
       "    }\n",
       "\n",
       "    .dataframe tbody tr th {\n",
       "        vertical-align: top;\n",
       "    }\n",
       "\n",
       "    .dataframe thead th {\n",
       "        text-align: right;\n",
       "    }\n",
       "</style>\n",
       "<table border=\"1\" class=\"dataframe\">\n",
       "  <thead>\n",
       "    <tr style=\"text-align: right;\">\n",
       "      <th></th>\n",
       "      <th>future_freq_band</th>\n",
       "      <th>count</th>\n",
       "    </tr>\n",
       "  </thead>\n",
       "  <tbody>\n",
       "    <tr>\n",
       "      <th>0</th>\n",
       "      <td>others</td>\n",
       "      <td>305</td>\n",
       "    </tr>\n",
       "    <tr>\n",
       "      <th>1</th>\n",
       "      <td>2.4G</td>\n",
       "      <td>105754</td>\n",
       "    </tr>\n",
       "    <tr>\n",
       "      <th>2</th>\n",
       "      <td>5G</td>\n",
       "      <td>244537</td>\n",
       "    </tr>\n",
       "  </tbody>\n",
       "</table>\n",
       "</div>"
      ],
      "text/plain": [
       "  future_freq_band   count\n",
       "0           others     305\n",
       "1             2.4G  105754\n",
       "2               5G  244537"
      ]
     },
     "execution_count": 35,
     "metadata": {},
     "output_type": "execute_result"
    }
   ],
   "source": [
    "df_client_stats_selected_future_band_pd"
   ]
  },
  {
   "cell_type": "code",
   "execution_count": 36,
   "metadata": {},
   "outputs": [
    {
     "data": {
      "image/png": "[encoded data removed]",
      "text/plain": [
       "<Figure size 720x504 with 1 Axes>"
      ]
     },
     "metadata": {
      "needs_background": "light"
     },
     "output_type": "display_data"
    }
   ],
   "source": [
    "ax = df_client_stats_selected_future_band_pd.plot(kind='bar',x='future_freq_band', y='count',figsize=(10, 7), rot=0)\n",
    "total = 0\n",
    "ax.legend().set_visible(False)\n",
    "for i in ax.patches:\n",
    "    total+=i.get_height()\n",
    "\n",
    "for i in ax.patches:\n",
    "    ax.text(i.get_x()-.03, i.get_height()+.5, '     '+str(np.around((i.get_height()/total)*100, 2))+'%', fontsize=15)"
   ]
  },
  {
   "cell_type": "code",
   "execution_count": null,
   "metadata": {},
   "outputs": [],
   "source": []
  }
 ],
 "metadata": {
  "kernelspec": {
   "display_name": "Python 3",
   "language": "python",
   "name": "python3"
  },
  "language_info": {
   "codemirror_mode": {
    "name": "ipython",
    "version": 3
   },
   "file_extension": ".py",
   "mimetype": "text/x-python",
   "name": "python",
   "nbconvert_exporter": "python",
   "pygments_lexer": "ipython3",
   "version": "3.7.3"
  }
 },
 "nbformat": 4,
 "nbformat_minor": 4
}
